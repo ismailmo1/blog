{
 "cells": [
  {
   "cell_type": "raw",
   "metadata": {},
   "source": [
    "---\n",
    "title: SQL and Pytest\n",
    "date: 01-11-2022\n",
    "categories: [sql, python, pytest]\n",
    "image: \"lasagna.jpg\"\n",
    "---"
   ]
  },
  {
   "cell_type": "markdown",
   "metadata": {},
   "source": [
    "Mixing SQL queries into your python code may not be the ideal approach in every scenario, however sometimes an ORM just doesn't meet your complex querying needs and a SQL query is much simpler.\n",
    "\n",
    "Regardless of the merits of using ORMs or not, this post assumes you are already in the situation where you have a complex SQL query sitting in your python application somewhere, and you want to test it just like you test your other functions. \n",
    "<br>\n"
   ]
  },
  {
   "cell_type": "markdown",
   "metadata": {},
   "source": [
    "# Setting the scene\n",
    "\n",
    "Let's begin by motivating the examples in this post.\n",
    "\n",
    "We're currently working on a flask app and we've been asked to integrate a new data source to an existing view in the app. We take a look at the endpoint that renders the template for the view and this is what we're greeted with:"
   ]
  },
  {
   "cell_type": "code",
   "execution_count": 3,
   "metadata": {},
   "outputs": [],
   "source": [
    "#| code-fold: true\n",
    "#| code-summary: Dummy flask app setup code\n",
    "from flask import Flask, request\n",
    "import sqlite3\n",
    "from flask import g\n",
    "\n",
    "DATABASE = 'database.db'\n",
    "\n",
    "# for a real app we'd use the factory pattern\n",
    "app = Flask(__name__)\n",
    "\n",
    "# quickstart from https://flask.palletsprojects.com/en/2.2.x/patterns/sqlite3/\n",
    "def get_db()-> sqlite3.Connection:\n",
    "    db = getattr(g, '_database', None)\n",
    "    if db is None:\n",
    "        db = g._database = sqlite3.connect(DATABASE)\n",
    "    return db\n",
    "\n",
    "@app.teardown_appcontext\n",
    "def close_connection(exception):\n",
    "    db = getattr(g, '_database', None)\n",
    "    if db is not None:\n",
    "        db.close()\n"
   ]
  },
  {
   "cell_type": "code",
   "execution_count": 4,
   "metadata": {},
   "outputs": [],
   "source": [
    "@app.get('/')\n",
    "def home():\n",
    "    filter = request.args.get('filter')\n",
    "    query = \"SELECT some_column FROM some_table WHERE some_column = ?\"\n",
    "    cur = get_db().execute(query, [filter])\n",
    "    res = cur.fetchall()\n",
    "    return res"
   ]
  },
  {
   "cell_type": "markdown",
   "metadata": {},
   "source": [
    "A user sends a request to `/?filter=columnvalue` and on the server side we send the following query to our DB: \n",
    "```sql\n",
    "SELECT some_column FROM some_table WHERE some_column = 'columnvalue'\n",
    "```\n",
    "\n",
    "We've been asked to add `another_table` to the query and so I decide something like this works pretty well for what we need:\n",
    "\n",
    "```sql\n",
    "SELECT some_column FROM some_table union another_table WHERE some_column = 'columnvalue'\n",
    "\n",
    "```\n",
    "(lets assume `another_table` has the same schema as `some_table` here)\n",
    "\n",
    "This is pretty simple, and going through the effort of adding a test for this doesn't just doesn't seem worth the effort, I'm feeling pretty confident that my new query will work fine after testing it manually in my local dev environment.\n",
    "\n",
    "Fair enough.\n",
    "\n",
    "But here's a query that I'd want to be more careful with:\n",
    "\n",
    "```sql\n",
    "-- taken from https://learnsql.com/blog/cte-with-examples/\n",
    "WITH avg_position AS (\n",
    "    SELECT position, AVG(bonus) AS average_bonus_for_position\n",
    "    FROM bonus_jan\n",
    "    GROUP BY position),\n",
    "    avg_region AS (\n",
    "    SELECT region, AVG (bonus) AS average_bonus_for_region\n",
    "    FROM bonus_jan\n",
    "    GROUP BY region)   \n",
    "SELECT b.employee_id, b.first_name, b.last_name, b.position, b.region, b.bonus, ap.average_bonus_for_position, ar.average_bonus_for_region\n",
    "FROM bonus_jan b\n",
    "JOIN avg_position ap\n",
    "ON b.position = ap.position\n",
    "JOIN avg_region ar\n",
    "ON b.region = ar.region;\n",
    "```\n",
    "\n",
    "When the query is an amalgamation of dozens of business rules and domain specific quirks of the data - it can end up looking quite unwieldy and I've find that testing is a huge help in understanding the expected behaviour, reducing iteration time in development and increasing confidence in my changes.\n",
    "\n",
    "The goal of this post is to demonstrate an example of a more realistic query that you might encounter in production, we'll first go through the manual process of how we could test this query and ensure it returns the data we expect, and then we'll automate the testing steps with pytest and incorporate into the rest of our test suite, finally we'll make some changes to query to demonstrate how adding test helps with development and maintenance. "
   ]
  }
 ],
 "metadata": {
  "kernelspec": {
   "display_name": "Python 3.10.6 ('venv': venv)",
   "language": "python",
   "name": "python3"
  },
  "language_info": {
   "codemirror_mode": {
    "name": "ipython",
    "version": 3
   },
   "file_extension": ".py",
   "mimetype": "text/x-python",
   "name": "python",
   "nbconvert_exporter": "python",
   "pygments_lexer": "ipython3",
   "version": "3.10.6"
  },
  "orig_nbformat": 4,
  "vscode": {
   "interpreter": {
    "hash": "7361d25b25ca56c43617ec98eed80ead698eaa9945c062729325bf4d506351d5"
   }
  }
 },
 "nbformat": 4,
 "nbformat_minor": 2
}
