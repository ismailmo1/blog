{
 "cells": [
  {
   "cell_type": "raw",
   "metadata": {},
   "source": [
    "---\n",
    "title: SQL and Pytest\n",
    "date: 01-11-2022\n",
    "categories: [sql, python, pytest]\n",
    "---"
   ]
  },
  {
   "cell_type": "markdown",
   "metadata": {},
   "source": [
    "Mixing SQL queries into your python code may not be the ideal approach in every scenario, however sometimes an ORM just doesn't meet your complex querying needs and a SQL query is much simpler.\n",
    "\n",
    "Regardless of the merits of using ORMs or not, this post assumes you are already in the situation where you have a complex SQL query sitting in your python application somewhere, and you want to test it just like you test your other functions. \n",
    "___\n"
   ]
  },
  {
   "cell_type": "markdown",
   "metadata": {},
   "source": [
    "Let's begin by setting the scene and motivating the examples in this post.\n",
    "\n",
    "We're currently working on a flask app and we've been asked to integrate a new data source to an existing view in the app. We take a look at the endpoint that renders the template for the view and this is what we're greeted with:"
   ]
  },
  {
   "cell_type": "code",
   "execution_count": 1,
   "metadata": {},
   "outputs": [
    {
     "name": "stdout",
     "output_type": "stream",
     "text": [
      " * Serving Flask app '__main__'\n",
      " * Debug mode: off\n"
     ]
    },
    {
     "name": "stderr",
     "output_type": "stream",
     "text": [
      "\u001b[31m\u001b[1mWARNING: This is a development server. Do not use it in a production deployment. Use a production WSGI server instead.\u001b[0m\n",
      " * Running on http://127.0.0.1:5000\n",
      "\u001b[33mPress CTRL+C to quit\u001b[0m\n",
      "127.0.0.1 - - [01/Nov/2022 21:19:59] \"GET / HTTP/1.1\" 200 -\n"
     ]
    }
   ],
   "source": [
    "from flask import Flask\n",
    "import sqlite3\n",
    "from flask import g\n",
    "\n",
    "DATABASE = 'database.db'\n",
    "\n",
    "# for a real app we'd use the factory pattern\n",
    "app = Flask(__name__)\n",
    "\n",
    "# quickstart from https://flask.palletsprojects.com/en/2.2.x/patterns/sqlite3/\n",
    "def get_db()-> sqlite3.Connection:\n",
    "    db = getattr(g, '_database', None)\n",
    "    if db is None:\n",
    "        db = g._database = sqlite3.connect(DATABASE)\n",
    "    return db\n",
    "\n",
    "@app.teardown_appcontext\n",
    "def close_connection(exception):\n",
    "    db = getattr(g, '_database', None)\n",
    "    if db is not None:\n",
    "        db.close()\n",
    "\n",
    "@app.get('/')\n",
    "def home():\n",
    "    query = \"SELECT * FROM table1\"\n",
    "    cur = get_db().execute(query)\n",
    "    res = cur.fetchall()\n",
    "    return res\n",
    "\n",
    "app.run()"
   ]
  },
  {
   "cell_type": "code",
   "execution_count": null,
   "metadata": {},
   "outputs": [],
   "source": []
  }
 ],
 "metadata": {
  "kernelspec": {
   "display_name": "Python 3.10.6 ('venv': venv)",
   "language": "python",
   "name": "python3"
  },
  "language_info": {
   "codemirror_mode": {
    "name": "ipython",
    "version": 3
   },
   "file_extension": ".py",
   "mimetype": "text/x-python",
   "name": "python",
   "nbconvert_exporter": "python",
   "pygments_lexer": "ipython3",
   "version": "3.10.6"
  },
  "orig_nbformat": 4,
  "vscode": {
   "interpreter": {
    "hash": "7361d25b25ca56c43617ec98eed80ead698eaa9945c062729325bf4d506351d5"
   }
  }
 },
 "nbformat": 4,
 "nbformat_minor": 2
}
