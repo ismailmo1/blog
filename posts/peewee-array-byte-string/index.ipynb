{
 "cells": [
  {
   "cell_type": "markdown",
   "metadata": {},
   "source": [
    "---\n",
    "title: Array type conversion in Postgres\n",
    "description: Exploring type conversion behaviour with peewee ORM and postgres \n",
    "date: 2-04-2024\n",
    "categories:\n",
    "  - debugging\n",
    "  - postgres\n",
    "  - sql\n",
    "  - orm\n",
    "  - peewee\n",
    "  - psycopg2\n",
    "  - python\n",
    "image: 'pg-btree.png'\n",
    "format:\n",
    "    html:\n",
    "        toc: true\n",
    "        toc-location: left\n",
    "        number-sections: true\n",
    "---"
   ]
  },
  {
   "cell_type": "markdown",
   "metadata": {},
   "source": [
    "Using an Array type for a column in postgres provides a convenient way to store multiple values for a single row without having to create a foreign key and linking to a new table. \n",
    "\n",
    "For example, if we have users we might want to store their data in the following format:\n",
    "\n",
    "| id | username  | password_hash |\n",
    "|----|-----------|-----------------|\n",
    "| 1  | ismailmo1 |                 |\n",
    "\n",
    "Usually when developing in an application in python for example, you might use an object relational mapping (ORM) library like SQLAlchemy or Peewee to map your database rows to Python objects which can help develop applications quicker by adding a layer of abstraction over SQL, although the value of using ORMs vs raw SQL has long been debated so it's not guaranteed that this abstraction is a good thing!"
   ]
  },
  {
   "cell_type": "markdown",
   "metadata": {},
   "source": [
    "Using peewee, we can represent the user table with the following model definition:"
   ]
  },
  {
   "cell_type": "code",
   "execution_count": null,
   "metadata": {},
   "outputs": [],
   "source": [
    "from peewee import PostgresqlDatabase, Model, CharField\n",
    "import bcrypt\n",
    "\n",
    "psql_db = PostgresqlDatabase(\"postgres\", host=\"localhost\", port=5432, user=\"postgres\")\n",
    "\n",
    "\n",
    "class BaseModel(Model):\n",
    "    \"\"\"A base model that will use our Postgresql database\"\"\"\n",
    "\n",
    "    class Meta:\n",
    "        database = psql_db\n",
    "\n",
    "\n",
    "class User(BaseModel):\n",
    "    username = CharField()\n",
    "    password_hash = CharField()\n",
    "\n",
    "psql_db.create_tables([User])"
   ]
  },
  {
   "cell_type": "markdown",
   "metadata": {},
   "source": [
    "We can then create a user with the following:"
   ]
  },
  {
   "cell_type": "code",
   "execution_count": null,
   "metadata": {},
   "outputs": [],
   "source": [
    "def hash_pwd(pwd) -> bytes:\n",
    "    return bcrypt.hashpw(pwd.encode(\"utf-8\"), bcrypt.gensalt())\n",
    "\n",
    "user = User.create(\n",
    "    username=\"test_user\",\n",
    "    password_hash=hash_pwd(\"password\")\n",
    ")"
   ]
  },
  {
   "cell_type": "markdown",
   "metadata": {},
   "source": [
    "Due to a new security requirement, we require limiting reuse of old passwords. One way we can acheive this by storing old passwords and checking to make sure the new password isn't in this list.\n",
    "\n",
    "We can take advantage of the `Array` type in postgres and redefine our `User` model to have an extra column: `previous_password_hashes`:"
   ]
  },
  {
   "cell_type": "code",
   "execution_count": null,
   "metadata": {},
   "outputs": [],
   "source": [
    "from playhouse.postgres_ext import ArrayField\n",
    "\n",
    "class UserHighSecurity(BaseModel):\n",
    "    username = CharField()\n",
    "    password_hash = CharField()\n",
    "    previous_password_hashes = ArrayField(CharField, null=True)\n",
    "\n",
    "psql_db.create_tables([UserHighSecurity])\n"
   ]
  },
  {
   "cell_type": "markdown",
   "metadata": {},
   "source": [
    "Now, each time a user changes their password we can add the current password to the array in this field (assume we store all previous passwords for simplicity here):"
   ]
  },
  {
   "cell_type": "code",
   "execution_count": null,
   "metadata": {},
   "outputs": [],
   "source": [
    "def change_password(user:UserHighSecurity, new_password:str)->None:\n",
    "    hashed_password = hash_pwd(new_password)\n",
    "    user.password_hash=hashed_password\n",
    "    user.previous_password_hashes.insert(0, user.password_hash)\n",
    "    user.save()"
   ]
  },
  {
   "cell_type": "markdown",
   "metadata": {},
   "source": [
    "Testing this out with a new user we can see how this column might work in practice:"
   ]
  },
  {
   "cell_type": "code",
   "execution_count": null,
   "metadata": {},
   "outputs": [],
   "source": [
    "user_high_sec = UserHighSecurity.create(username=\"test\", password_hash = hash_pwd(\"pass\"), previous_password_hashes=[])\n",
    "change_password(user_high_sec, \"new_password\")"
   ]
  },
  {
   "cell_type": "markdown",
   "metadata": {},
   "source": [
    "How it's stored in the database:\n",
    "\n",
    "|id|username|password_hash|previous_password_hashes|\n",
    "|--|--------|-------------|------------------------|\n",
    "|1|test|$2b$12$c8MMNDgtLFlUTbxlvGl6OuDs8V8AOu2dT3/1rhjyT7D8mHyyPsAKm|{\"\\\\x2432622431322463384d4d4e4467744c466c555462786c76476c364f754473385638414f75326454332f3172686a79543744386d4879795073414b6d\", \"\\\\x243262243132244b5832424b696b39356c616b2f574d6c4977546c4375316873326a4c54353739677648706e774a6d6f5a64446b6d784a335641666d\"}|\n"
   ]
  },
  {
   "cell_type": "markdown",
   "metadata": {},
   "source": [
    "We now see here that the password hash has a very different format to the previous_password_hashes - even though they have the same column type definitions in peewee (and postgres).\n",
    "\n",
    "We can narrow this down to this part of the source code in peewee (our ORM of choice here):\n",
    "\n",
    "```python\n",
    "# from peewee.py\n",
    "class _StringField(Field):\n",
    "    def adapt(self, value):\n",
    "        if isinstance(value, text_type):\n",
    "            return value\n",
    "        elif isinstance(value, bytes_type):\n",
    "            return value.decode('utf-8') # <- this line of code implicitly converts our password hash bytes to string\n",
    "        return text_type(value)\n",
    "```\n",
    "\n",
    "This `adapt` method is called on each column/field during generation of a query when the `db_value` is accessed:\n",
    "\n",
    "```python\n",
    "# from peewee.py\n",
    "class Field(ColumnBase):\n",
    "    ...\n",
    "    def db_value(self, value):\n",
    "            return value if value is None else self.adapt(value)\n",
    "...\n",
    "class Insert(_WriteQuery):\n",
    "    ...\n",
    "    def _generate_insert(self, insert, ctx):\n",
    "        ...\n",
    "        columns_converters = [\n",
    "            (column, column.db_value if isinstance(column, Field) else None)\n",
    "            for column in columns]\n",
    "```"
   ]
  },
  {
   "cell_type": "markdown",
   "metadata": {},
   "source": [
    "<!-- notes\n",
    "- show generated sql queries for normal case of array insert (i.e. bytes)\n",
    "- show special case of one element of array as bytes with others as string \n",
    "\n",
    "what happens when we try add bytes into existing array with strings\n",
    "insert\n",
    "\tinto\n",
    "\tpublic.\"user\" (username,\n",
    "\tpassword_hash,\n",
    "\tprev_password_hashes)\n",
    "values ('test_user',\n",
    "'$2b$12$xGPKwSxUtnhsUHlAsxTLoeR9owbHFYTB5Y/zfa.wA9lT4LqblxKDq',\n",
    "array['\\x243262243132247847504b77537855746e687355486c417378544c6f6552396f7762484659544235592f7a66612e7741396c54344c71626c784b4471'::bytea,\n",
    "'$2b$12$2eSqzTNm4.nXJcUSgg8ry.HLGuAE/asdZW3wb1mPhXEl.kh8KErsS,\n",
    "'$2b$12$jFSVNCloqm6O4kysK44azeDicLVfCKBCIhr23Y6N6BHoHXGPRfjua',\n",
    "'$2b$12$ifaAPe69L.vcFHSnsG0eouE8iWd7s0sqwCqXFYVjMWszNDRqRMDde',\n",
    "'$2b$12$Wy.XarJWzhZM58Y6NmtJ.ungymHy41qF7nT91fbhvfcZyE0ywHlXW',\n",
    "'$2b$12$XpPaOIZTWGU.5ddln4OSh.BNXhDaDNamfngAKTlhqLilMB2MreaTy'])\n",
    "\n",
    "\n",
    "FINAL QUERY - all bytes converted to string in python code with .decode()\n",
    "insert\n",
    "\tinto\n",
    "\tpublic.\"user\" (username,\n",
    "\tpassword_hash,\n",
    "\tprev_password_hashes)\n",
    "values ('test_user',\n",
    "'$2b$12$xGPKwSxUtnhsUHlAsxTLoeR9owbHFYTB5Y/zfa.wA9lT4LqblxKDq',\n",
    "array['$2b$12$xGPKwSxUtnhsUHlAsxTLoeR9owbHFYTB5Y/zfa.wA9lT4LqblxKDq',\n",
    "'$2b$12$2eSqzTNm4.nXJcUSgg8ry.HLGuAE/asdZW3wb1mPhXEl.kh8KErsS',\n",
    "'$2b$12$jFSVNCloqm6O4kysK44azeDicLVfCKBCIhr23Y6N6BHoHXGPRfjua',\n",
    "'$2b$12$ifaAPe69L.vcFHSnsG0eouE8iWd7s0sqwCqXFYVjMWszNDRqRMDde',\n",
    "'$2b$12$Wy.XarJWzhZM58Y6NmtJ.ungymHy41qF7nT91fbhvfcZyE0ywHlXW',\n",
    "'$2b$12$XpPaOIZTWGU.5ddln4OSh.BNXhDaDNamfngAKTlhqLilMB2MreaTy'])\n",
    "\n",
    "\n",
    "-->\n"
   ]
  }
 ],
 "metadata": {
  "language_info": {
   "name": "python"
  }
 },
 "nbformat": 4,
 "nbformat_minor": 2
}
