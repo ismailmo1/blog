{
 "cells": [
  {
   "cell_type": "markdown",
   "metadata": {},
   "source": [
    "---\n",
    "title: Exploring Type Adaptations in ORMs\n",
    "description: Exploring type conversion behaviour with peewee ORM and postgres \n",
    "date: 2-04-2024\n",
    "categories:\n",
    "  - debugging\n",
    "  - postgres\n",
    "  - sql\n",
    "  - orm\n",
    "  - peewee\n",
    "  - psycopg\n",
    "  - python\n",
    "image: 'elephant-snake.webp'\n",
    "format:\n",
    "    html:\n",
    "        toc: true\n",
    "        toc-location: left\n",
    "        number-sections: true\n",
    "---"
   ]
  },
  {
   "cell_type": "markdown",
   "metadata": {},
   "source": [
    "Usually when developing in an application with a database, an API in python for example, you might use an object relational mapping (ORM) library like SQLAlchemy or peewee. This can help develop applications quicker by adding a layer of abstraction over SQL and removing boilerplate code to map database rows and tables to Python objects.\n",
    "\n",
    "Here we explore unexpected (by me atleast!) behaviour of type conversion by the [peewee](https://github.com/coleifer/peewee) ORM when working with postgres text arrays and python bytes. "
   ]
  },
  {
   "cell_type": "markdown",
   "metadata": {},
   "source": [
    "\n",
    "# Peewee ORM\n",
    "Typically you'd represent a user in the database with the following schema:\n",
    "\n",
    "| id `(serial4)`| username `(text)`  | password_hash `(text)`|\n",
    "|----|-----------|-----------------|\n",
    "| 1  | ismailmo1 |$2b...mHyyPsAKm|\n"
   ]
  },
  {
   "cell_type": "markdown",
   "metadata": {},
   "source": [
    "Using peewee, we can represent the user table with the following model definition:"
   ]
  },
  {
   "cell_type": "code",
   "execution_count": 1,
   "metadata": {},
   "outputs": [],
   "source": [
    "from peewee import PostgresqlDatabase, Model, CharField\n",
    "import bcrypt\n",
    "\n",
    "psql_db = PostgresqlDatabase(\"postgres\", host=\"localhost\", port=5432, user=\"postgres\")\n",
    "\n",
    "\n",
    "class BaseModel(Model):\n",
    "    \"\"\"A base model that will use our Postgresql database\"\"\"\n",
    "\n",
    "    class Meta:\n",
    "        database = psql_db\n",
    "\n",
    "\n",
    "class User(BaseModel):\n",
    "    username = CharField()\n",
    "    password_hash = CharField()\n",
    "\n",
    "psql_db.create_tables([User])"
   ]
  },
  {
   "cell_type": "markdown",
   "metadata": {},
   "source": [
    "We can then create a user with the following:"
   ]
  },
  {
   "cell_type": "code",
   "execution_count": 4,
   "metadata": {},
   "outputs": [],
   "source": [
    "def hash_pwd(pwd) -> bytes:\n",
    "    return bcrypt.hashpw(pwd.encode(\"utf-8\"), bcrypt.gensalt())\n",
    "\n",
    "user = User.create(\n",
    "    username=\"test_user\",\n",
    "    password_hash=hash_pwd(\"password\")\n",
    ")"
   ]
  },
  {
   "cell_type": "markdown",
   "metadata": {},
   "source": [
    "# Postgres Arrays\n",
    "\n",
    "Let's say due to a new security requirement, we require limiting reuse of old passwords. One way we can acheive this by storing old passwords and checking to make sure the new password isn't in this list.\n",
    "\n",
    "`Array` column types in postgres provide a convenient way to store multiple values for a single row without having to create a foreign key and linking to a new table. We can take advantage of this and redefine our `User` model to have an extra column: `previous_password_hashes` of type `text[]` :"
   ]
  },
  {
   "cell_type": "code",
   "execution_count": 2,
   "metadata": {},
   "outputs": [],
   "source": [
    "from playhouse.postgres_ext import ArrayField\n",
    "\n",
    "class UserHighSecurity(BaseModel):\n",
    "    username = CharField()\n",
    "    password_hash = CharField()\n",
    "    previous_password_hashes = ArrayField(CharField, null=True)\n",
    "\n",
    "psql_db.create_tables([UserHighSecurity])\n"
   ]
  },
  {
   "cell_type": "markdown",
   "metadata": {},
   "source": [
    "Now, each time a user changes their password we can add the current password to the array in this field (assume we store all previous passwords for simplicity here):"
   ]
  },
  {
   "cell_type": "code",
   "execution_count": null,
   "metadata": {},
   "outputs": [],
   "source": [
    "def change_password(user:UserHighSecurity, new_password:str)->None:\n",
    "    hashed_password = hash_pwd(new_password)\n",
    "    user.password_hash=hashed_password\n",
    "    user.previous_password_hashes.insert(0, user.password_hash)\n",
    "    user.save()"
   ]
  },
  {
   "cell_type": "markdown",
   "metadata": {},
   "source": [
    "Testing this out with a new user we can see how this column might work in practice:"
   ]
  },
  {
   "cell_type": "code",
   "execution_count": 15,
   "metadata": {},
   "outputs": [],
   "source": [
    "# create our user\n",
    "user_high_sec = UserHighSecurity.create(\n",
    "                                        username=\"test\", \n",
    "                                        password_hash = hash_pwd(\"pass\"), \n",
    "                                        previous_password_hashes=[]\n",
    "                                    )\n",
    "\n",
    "# change password and add current password to previous_password_hashes\n",
    "change_password(user_high_sec, \"new_password\")"
   ]
  },
  {
   "cell_type": "markdown",
   "metadata": {},
   "source": [
    "Postgres stores in the database with the following schema:"
   ]
  },
  {
   "cell_type": "markdown",
   "metadata": {},
   "source": [
    "| id `(serial4)`| username `(text)`  | password_hash `(text)`| previous_password_hashes `(text[])`\n",
    "|--|--------|-------------|------------------------|\n",
    "|1|test|$2b...mHyyPsAKm|{\"\\\\x2432622...3414b6d\", \"\\\\x2432622...641666d\"}|"
   ]
  },
  {
   "cell_type": "markdown",
   "metadata": {},
   "source": [
    "# Implicit type conversion\n",
    "\n",
    "We can now see the \"problem\" - the `password_hash` column has a very different format to the `previous_password_hashes` column - even though they were populated with the same value (return from `hash_pwd()`) and they have the same column type definitions in peewee (and postgres)!\n",
    "\n",
    "For the `password_hash` field:\n",
    "\n",
    "- python `bytes` -> postgres `text`\n",
    "  \n",
    "For the `previous_password_hashes` field:\n",
    "\n",
    "- python `list[bytes]` -> postgres `text[]`\n",
    "\n",
    "The python `bytes` (i.e. the output of `hash_pwd()` are converted to a string representation before being stored as `text` in postgres - and surprisingly this is done differently for each column."
   ]
  },
  {
   "cell_type": "markdown",
   "metadata": {},
   "source": [
    "For the `password_hash` column, the string is a `utf-8` decoded version of the `hash_pwd()`:"
   ]
  },
  {
   "cell_type": "code",
   "execution_count": 6,
   "metadata": {},
   "outputs": [
    {
     "data": {
      "text/plain": [
       "'$2b$12$p5f.cDLtdX0VSPf7FyyTzevbXjBEhJJuXhs0d25uSSZZnWhWygXWK'"
      ]
     },
     "execution_count": 6,
     "metadata": {},
     "output_type": "execute_result"
    }
   ],
   "source": [
    "hash_pwd(\"password\").decode(\"utf-8\")"
   ]
  },
  {
   "cell_type": "markdown",
   "metadata": {},
   "source": [
    "Whereas for the `previous_password_hashes` column, we decode with \"hex\" (postgres adds `\\x`)"
   ]
  },
  {
   "cell_type": "code",
   "execution_count": 10,
   "metadata": {},
   "outputs": [
    {
     "data": {
      "text/plain": [
       "'2432622431322449785a47644f51426954486a684b666c55646c48767563626b633645565a754e43505372426757322e724a75582f424c386f543243'"
      ]
     },
     "execution_count": 10,
     "metadata": {},
     "output_type": "execute_result"
    }
   ],
   "source": [
    "hash_pwd(\"password\").hex()\n"
   ]
  },
  {
   "cell_type": "markdown",
   "metadata": {},
   "source": [
    "By chasing down breakpoints in the debugger and digging through the peewee source code, we can find where this type conversion happens for the `password_hash` column:"
   ]
  },
  {
   "cell_type": "markdown",
   "metadata": {},
   "source": [
    "```python\n",
    "# from peewee.py (comments added by me)\n",
    "class _StringField(Field):\n",
    "    def adapt(self, value):\n",
    "        if isinstance(value, text_type):\n",
    "            return value\n",
    "        elif isinstance(value, bytes_type):\n",
    "             # implicitly decode our password hash bytes to utf-8 string\n",
    "            return value.decode('utf-8')\n",
    "            #  ^^^^^^^^^^^^^^^^^^^^^^^^^\n",
    "        return text_type(value)\n",
    "```\n",
    "\n",
    "This `adapt` method is called on each column/field during generation of a query when the `db_value` is accessed:\n",
    "\n",
    "```python\n",
    "# from peewee.py\n",
    "class Field(ColumnBase):\n",
    "    ...\n",
    "    def db_value(self, value):\n",
    "            return value if value is None else self.adapt(value)\n",
    "...\n",
    "class Insert(_WriteQuery):\n",
    "    ...\n",
    "    def _generate_insert(self, insert, ctx):\n",
    "        ...\n",
    "        columns_converters = [\n",
    "            (column, column.db_value if isinstance(column, Field) else None)\n",
    "            for column in columns]\n",
    "```"
   ]
  },
  {
   "cell_type": "markdown",
   "metadata": {},
   "source": [
    "Although we can see why `bytes` are stored as `utf-8` in postgres `text` columns, why is this not the same for `list[bytes]` and `text[]`?\n",
    "\n",
    "Ultimately, ORMs will send a SQL query to the underlying database adapter: for postgres this is `psycopg`, where we can directly access the `cursor.query` property during execution:"
   ]
  },
  {
   "cell_type": "markdown",
   "metadata": {},
   "source": [
    "```sql\n",
    "---  when we call change_password()\n",
    "UPDATE \n",
    "\tpublic.userhighsecurity\n",
    "SET \n",
    "\tpassword_hash='$2b...mHyyPsAKm', -- utf-8 decoded\n",
    "\tprevious_password_hashes=array['\\x2432622...641666d'::bytea] -- hex representation\n",
    "WHERE \n",
    "\tid=1;\n",
    "\n",
    "```"
   ]
  },
  {
   "cell_type": "markdown",
   "metadata": {},
   "source": [
    "So peewee will send a hex string as a postgres `bytea` type for the python `list[bytes]` and this is documented in the `psycopg` [docs](https://www.psycopg.org/docs/usage.html#python-types-adaptation):\n",
    "\n",
    "> <b>Adaptation of Python values to SQL types</b>\n",
    "> \n",
    "> Many standard Python types are adapted into SQL and returned as Python objects when a query is executed.\n",
    "> \n",
    "> The following table shows the default mapping between Python and PostgreSQL types:\n",
    ">\n",
    "> |Python | PostgreSQL | \n",
    "> |--------|------------|\n",
    "> |`buffer` `memoryview` `bytearray` `bytes` Buffer protocol |bytea|\n",
    ">\n",
    "\n",
    "And further info on binary adaptation:\n",
    "\n",
    "> <b> Binary adaptation </b>\n",
    "> Python types representing binary objects are converted into PostgreSQL binary string syntax, suitable for bytea fields.\n",
    "> ...\n",
    "> Since version 9.0 PostgreSQL uses by default a new “hex” format to emit bytea fields."
   ]
  },
  {
   "cell_type": "markdown",
   "metadata": {},
   "source": [
    "This clears it up! Postgres accepts a hex string as input for `bytea` fields which is why `pyscopg` converts our python `bytes` to hex when it writes our insert query."
   ]
  },
  {
   "cell_type": "markdown",
   "metadata": {},
   "source": [
    "# \"Fixing\" the issue\n",
    "\n",
    "For our application, we want to ensure that a user doesn't reuse their current password (as well as previous ones) so we need to store both passwords consistently to avoid having to convert between formats each time (and for consistency in general).\n",
    "\n",
    "Since our password hashes are already stored as `utf-8` decoded strings, we can decode our `previous_hashed_passwords` before storing them.\n",
    "\n",
    "The cleanest way is to change the `hash_pwd()` to return a string as this will avoid any implicit conversion for the existing `password_hash` by peewee also - [explicit is always better than implicit](https://peps.python.org/pep-0020/)."
   ]
  },
  {
   "cell_type": "code",
   "execution_count": 11,
   "metadata": {},
   "outputs": [],
   "source": [
    "def hash_pwd(pwd) -> str:\n",
    "    return bcrypt.hashpw(pwd.encode(\"utf-8\"), bcrypt.gensalt()).decode(\"utf-8\")"
   ]
  },
  {
   "cell_type": "code",
   "execution_count": 12,
   "metadata": {},
   "outputs": [],
   "source": [
    "def change_password(user:UserHighSecurity, new_password:str)->None:\n",
    "    hashed_password = hash_pwd(new_password)\n",
    "    user.password_hash=hashed_password\n",
    "    user.previous_password_hashes.insert(0, user.password_hash)\n",
    "    user.save()"
   ]
  },
  {
   "cell_type": "markdown",
   "metadata": {},
   "source": [
    "Now when we add values to `previous_password_hashes` it will be stored the same way as the `password_hash` columns"
   ]
  },
  {
   "cell_type": "code",
   "execution_count": 14,
   "metadata": {},
   "outputs": [],
   "source": [
    "change_password(user_high_sec, \"new_password\")"
   ]
  },
  {
   "cell_type": "markdown",
   "metadata": {},
   "source": [
    "Generated sql:\n",
    "\n",
    "```sql\n",
    "-- all bytes converted to string in python code with .decode()\n",
    "UPDATE \n",
    "\tpublic.userhighsecurity\n",
    "SET \n",
    "\tpassword_hash='$2b...mHyyPsAKm', -- utf-8 decoded\n",
    "\tprevious_password_hashes=array['$2b...mHyyPsAKm']  -- utf-8 decoded\n",
    "WHERE \n",
    "\tid=1;\n",
    "```"
   ]
  },
  {
   "cell_type": "markdown",
   "metadata": {},
   "source": [
    "Updated database:\n",
    "\n",
    "| id `(serial4)`| username `(text)`  | password_hash `(text)`| previous_password_hashes `(text[])`\n",
    "|--|--------|-------------|------------------------|\n",
    "|1|test|$2b...mHyyPsAKm|{\"$2b...mHyyPsAKm\"}|"
   ]
  },
  {
   "cell_type": "markdown",
   "metadata": {},
   "source": [
    "# Mixing strings and bytes\n",
    "While exploring this behaviour and switching between inserting raw bytes into postgres and using `.decode()` to insert strings, I found that when you insert python `bytes` into a column with existing `text[]` something unusual happens:\n",
    "\n",
    "With the state of the user row as above, when we insert `bytes` into the array:"
   ]
  },
  {
   "cell_type": "code",
   "execution_count": null,
   "metadata": {},
   "outputs": [],
   "source": [
    "hashed_password = bcrypt.hashpw(\"bytes_password\".encode(), bcrypt.gensalt())\n",
    "user_high_sec.previous_password_hashes.insert(0, hashed_password)\n",
    "user_high_sec.save()"
   ]
  },
  {
   "cell_type": "markdown",
   "metadata": {},
   "source": [
    "This generates the following sql:\n",
    "\n",
    "```sql\n",
    "UPDATE \n",
    "\tpublic.userhighsecurity\n",
    "SET \n",
    "\tpassword_hash='$2b...mHyyPsAKm',\n",
    "\tprevious_password_hashes=array[\n",
    "\t\t'\\x'2432622...e484471''::bytea, -- new inserted value in bytes\n",
    "\t\t'$2b...mHyyPsAKm']) -- existing utf-8 decoded \n",
    "WHERE \n",
    "\tid=1;\n",
    "```"
   ]
  },
  {
   "cell_type": "markdown",
   "metadata": {},
   "source": [
    "In this case, postgres converts all elements of the array to the `bytea` type - although I couldn't find any documentation on this behaviour (please let me know if you know why this happens!)\n",
    "\n",
    "Interestingly when you use the `array_append` method directly in postgres you (rightly) get an error message:\n",
    "\n",
    "```sql\n",
    "UPDATE\n",
    "\tpublic.userhighsecurity\n",
    "SET\t\n",
    "\tprevious_password_hashes = array_append(previous_password_hashes, '\\x'2432622...e484471''::bytea)\n",
    "WHERE\n",
    "\tid = 1;\n",
    "\n",
    "```\n",
    "> SQL Error [42883]: ERROR: function\n",
    "> array_append(character varying[], bytea) does not exist\n",
    "> Hint: No function matches the given name and argument types. You might need to add explicit type casts.\n",
    "\n",
    "Unfortunately when working with an ORM you lose some control of the underlying SQL, which is usually a worthwhile tradeoff, but it can be useful to peek under the hood sometimes."
   ]
  },
  {
   "cell_type": "markdown",
   "metadata": {},
   "source": [
    "\n",
    "# References\n",
    "\n",
    "- [https://www.psycopg.org/docs/usage.html#python-types-adaptation](https://www.psycopg.org/docs/usage.html#python-types-adaptation)\n",
    "- [https://www.psycopg.org/docs/usage.html#binary-adaptation](https://www.psycopg.org/docs/usage.html#binary-adaptation)\n",
    "- [https://www.postgresql.org/docs/16/sql-expressions.html#SQL-SYNTAX-TYPE-CASTS](https://www.postgresql.org/docs/16/sql-expressions.html#SQL-SYNTAX-TYPE-CASTS)\n",
    "- [https://www.postgresql.org/docs/current/arrays.html](https://www.postgresql.org/docs/current/arrays.html)\n",
    "- [https://www.postgresql.org/docs/current/datatype-binary.html](https://www.postgresql.org/docs/current/datatype-binary.html)\n",
    "  \n",
    "<i>blog title image source: [“Python and PostgreSQL without ORM,”](https://medium.com/@gitaumoses4/python-and-postgresql-without-orm-6e9d7fc9a38e) Moses Gitau (Jun 5, 2018)</i>\n"
   ]
  }
 ],
 "metadata": {
  "kernelspec": {
   "display_name": "venv",
   "language": "python",
   "name": "python3"
  },
  "language_info": {
   "codemirror_mode": {
    "name": "ipython",
    "version": 3
   },
   "file_extension": ".py",
   "mimetype": "text/x-python",
   "name": "python",
   "nbconvert_exporter": "python",
   "pygments_lexer": "ipython3",
   "version": "3.10.12"
  }
 },
 "nbformat": 4,
 "nbformat_minor": 2
}
